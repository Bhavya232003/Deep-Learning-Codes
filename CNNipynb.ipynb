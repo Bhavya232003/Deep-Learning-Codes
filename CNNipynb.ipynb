{
  "nbformat": 4,
  "nbformat_minor": 0,
  "metadata": {
    "colab": {
      "provenance": [],
      "authorship_tag": "ABX9TyNPZ2+ucysb3wfcUSpPMOPw",
      "include_colab_link": true
    },
    "kernelspec": {
      "name": "python3",
      "display_name": "Python 3"
    },
    "language_info": {
      "name": "python"
    }
  },
  "cells": [
    {
      "cell_type": "markdown",
      "metadata": {
        "id": "view-in-github",
        "colab_type": "text"
      },
      "source": [
        "<a href=\"https://colab.research.google.com/github/Bhavya232003/Deep-Learning-Codes/blob/main/CNNipynb.ipynb\" target=\"_parent\"><img src=\"https://colab.research.google.com/assets/colab-badge.svg\" alt=\"Open In Colab\"/></a>"
      ]
    },
    {
      "cell_type": "code",
      "source": [
        "import numpy as np\n",
        "import torch\n",
        "import torch.nn as nn\n",
        "import torch.optim as optim\n",
        "from torchvision import datasets, transforms\n",
        "from torch.utils.data import DataLoader\n",
        "\n",
        "# Define CNN model\n",
        "class CNN(nn.Module):\n",
        "    def __init__(self):\n",
        "        super(CNN, self).__init__()\n",
        "        self.conv = nn.Conv2d(1, 8, kernel_size=3, padding=1)\n",
        "        self.pool = nn.MaxPool2d(2, 2)\n",
        "        self.flatten_size = 8 * 14 * 14  # Corrected for MNIST (28x28 -> 14x14 after pooling)\n",
        "        self.fc = nn.Linear(self.flatten_size, 10)\n",
        "\n",
        "    def forward(self, x):\n",
        "        x = self.pool(torch.relu(self.conv(x)))\n",
        "        x = x.view(x.size(0), -1)  # Flatten dynamically\n",
        "        x = self.fc(x)\n",
        "        return torch.log_softmax(x, dim=1)\n",
        "\n",
        "# Load and preprocess data\n",
        "def get_data_loader(train=True):\n",
        "    transform = transforms.Compose([transforms.ToTensor(), transforms.Normalize((0.5,), (0.5,))])\n",
        "    dataset = datasets.MNIST(root='./data', train=train, download=True, transform=transform)\n",
        "    data_loader = DataLoader(dataset, batch_size=64, shuffle=True)\n",
        "    return data_loader\n",
        "\n",
        "# Training function\n",
        "def train_model():\n",
        "    device = torch.device(\"cuda\" if torch.cuda.is_available() else \"cpu\")\n",
        "    model = CNN().to(device)\n",
        "    criterion = nn.CrossEntropyLoss()\n",
        "    optimizer = optim.Adam(model.parameters(), lr=0.005)\n",
        "    train_loader = get_data_loader(train=True)\n",
        "\n",
        "    for epoch in range(5):\n",
        "        for images, labels in train_loader:\n",
        "            images, labels = images.to(device), labels.to(device)\n",
        "            optimizer.zero_grad()\n",
        "            output = model(images)\n",
        "            loss = criterion(output, labels)\n",
        "            loss.backward()\n",
        "            optimizer.step()\n",
        "        print(f'Epoch {epoch+1}, Loss: {loss.item():.4f}')\n",
        "\n",
        "    return model\n",
        "\n",
        "# Accuracy calculation function\n",
        "def evaluate_model(model):\n",
        "    device = torch.device(\"cuda\" if torch.cuda.is_available() else \"cpu\")\n",
        "    test_loader = get_data_loader(train=False)\n",
        "    correct = 0\n",
        "    total = 0\n",
        "    model.eval()\n",
        "    with torch.no_grad():\n",
        "        for images, labels in test_loader:\n",
        "            images, labels = images.to(device), labels.to(device)\n",
        "            output = model(images)\n",
        "            _, predicted = torch.max(output, 1)\n",
        "            total += labels.size(0)\n",
        "            correct += (predicted == labels).sum().item()\n",
        "\n",
        "    accuracy = 100 * correct / total\n",
        "    print(f'Accuracy: {accuracy:.2f}%')\n",
        "\n",
        "# Train and evaluate the model\n",
        "model = train_model()\n",
        "evaluate_model(model)\n"
      ],
      "metadata": {
        "colab": {
          "base_uri": "https://localhost:8080/"
        },
        "id": "iTPRYppj7qTc",
        "outputId": "c69a8260-bc5e-470c-d61c-10195f89e3c9"
      },
      "execution_count": 3,
      "outputs": [
        {
          "output_type": "stream",
          "name": "stdout",
          "text": [
            "Epoch 1, Loss: 0.1715\n",
            "Epoch 2, Loss: 0.1544\n",
            "Epoch 3, Loss: 0.0063\n",
            "Epoch 4, Loss: 0.0157\n",
            "Epoch 5, Loss: 0.0151\n",
            "Accuracy: 97.94%\n"
          ]
        }
      ]
    },
    {
      "cell_type": "code",
      "source": [],
      "metadata": {
        "id": "uZtANA1v9C5v"
      },
      "execution_count": null,
      "outputs": []
    }
  ]
}
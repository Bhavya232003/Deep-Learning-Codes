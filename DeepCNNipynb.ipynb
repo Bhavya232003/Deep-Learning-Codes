{
  "nbformat": 4,
  "nbformat_minor": 0,
  "metadata": {
    "colab": {
      "provenance": [],
      "authorship_tag": "ABX9TyPuqHgb9aIrlJCnVbBKmis+",
      "include_colab_link": true
    },
    "kernelspec": {
      "name": "python3",
      "display_name": "Python 3"
    },
    "language_info": {
      "name": "python"
    }
  },
  "cells": [
    {
      "cell_type": "markdown",
      "metadata": {
        "id": "view-in-github",
        "colab_type": "text"
      },
      "source": [
        "<a href=\"https://colab.research.google.com/github/Bhavya232003/Deep-Learning-Codes/blob/main/DeepCNNipynb.ipynb\" target=\"_parent\"><img src=\"https://colab.research.google.com/assets/colab-badge.svg\" alt=\"Open In Colab\"/></a>"
      ]
    },
    {
      "cell_type": "code",
      "execution_count": null,
      "metadata": {
        "colab": {
          "base_uri": "https://localhost:8080/"
        },
        "id": "60-wB8FbMgOF",
        "outputId": "845c47e6-517d-4f95-fe3f-d07c53431b51"
      },
      "outputs": [
        {
          "output_type": "stream",
          "name": "stdout",
          "text": [
            "Output shape: (13, 13, 4)\n"
          ]
        }
      ],
      "source": [
        "import numpy as np\n",
        "\n",
        "class ConvLayer:\n",
        "    def __init__(self, num_filters, filter_size):\n",
        "        self.num_filters = num_filters\n",
        "        self.filter_size = filter_size\n",
        "        self.filters = np.random.randn(num_filters, filter_size, filter_size) / (filter_size * filter_size)\n",
        "\n",
        "    def forward(self, input):\n",
        "        h, w = input.shape\n",
        "        output = np.zeros((h - self.filter_size + 1, w - self.filter_size + 1, self.num_filters))\n",
        "        for i in range(h - self.filter_size + 1):\n",
        "            for j in range(w - self.filter_size + 1):\n",
        "                region = input[i:i+self.filter_size, j:j+self.filter_size]\n",
        "                output[i, j] = np.sum(region * self.filters, axis=(1, 2))\n",
        "        return output\n",
        "\n",
        "class MaxPoolLayer:\n",
        "    def __init__(self, size):\n",
        "        self.size = size\n",
        "\n",
        "    def forward(self, input):\n",
        "        h, w, num_filters = input.shape\n",
        "        output = np.zeros((h // self.size, w // self.size, num_filters))\n",
        "        for i in range(0, h, self.size):\n",
        "            for j in range(0, w, self.size):\n",
        "                output[i//self.size, j//self.size] = np.amax(input[i:i+self.size, j:j+self.size], axis=(0, 1))\n",
        "        return output\n",
        "\n",
        "class DeepCNN:\n",
        "    def __init__(self):\n",
        "        self.conv1 = ConvLayer(4, 3)\n",
        "        self.pool1 = MaxPoolLayer(2)\n",
        "\n",
        "    def forward(self, image):\n",
        "        out = self.conv1.forward(image)\n",
        "        out = self.pool1.forward(out)\n",
        "        return out\n",
        "\n",
        "# Example usage\n",
        "image = np.random.randn(28, 28)\n",
        "cnn = DeepCNN()\n",
        "output = cnn.forward(image)\n",
        "print(\"Output shape:\", output.shape)\n"
      ]
    },
    {
      "cell_type": "code",
      "source": [],
      "metadata": {
        "id": "k1-hGpTcMjy1"
      },
      "execution_count": null,
      "outputs": []
    }
  ]
}